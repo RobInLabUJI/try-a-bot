{
 "metadata": {
  "name": "",
  "signature": "sha256:848dcf8c6824e380a9aa80893bf71460481110b3fd2fee7b52c03e34b4be1aac"
 },
 "nbformat": 3,
 "nbformat_minor": 0,
 "worksheets": [
  {
   "cells": [
    {
     "cell_type": "markdown",
     "metadata": {},
     "source": [
      "### Try-a-Bot: soccer robots\n",
      "---\n",
      "<a href=\"http://www.youtube.com/watch?feature=player_embedded&v=ckAWLGwW8xw\" target=\"_blank\">\n",
      "<img style=\"float: right; border: 10px solid white;\"  src=\"http://img.youtube.com/vi/ckAWLGwW8xw/0.jpg\"\n",
      "width=\"240\" height=\"180\" border=\"10\" /></a>\n",
      "# Simple Player Behavior\n",
      "\n",
      "This is the code for some simple behaviors of the soccer player (see video in the figure).\n",
      "\n",
      "The robot turns to the ball and approaches it.\n",
      "\n",
      "Then it walks around the ball until all the elements (the robot, the ball and the goal) are aligned.\n",
      "\n",
      "Once aligned, the robot turns to the ball and kicks it.\n",
      "\n",
      "The procedure can be repeated until a goal is achieved."
     ]
    },
    {
     "cell_type": "code",
     "collapsed": false,
     "input": [
      "from e_puck.robot import ePuck"
     ],
     "language": "python",
     "metadata": {},
     "outputs": [],
     "prompt_number": 1
    },
    {
     "cell_type": "code",
     "collapsed": false,
     "input": [
      "robot = ePuck('epuck_1')"
     ],
     "language": "python",
     "metadata": {},
     "outputs": [],
     "prompt_number": 2
    },
    {
     "cell_type": "markdown",
     "metadata": {},
     "source": [
      "#### Turn to the ball"
     ]
    },
    {
     "cell_type": "code",
     "collapsed": false,
     "input": [
      "theta = robot.ball[1]\n",
      "if theta > 0:\n",
      "    left = -100\n",
      "    right = 100\n",
      "else:\n",
      "    left = 100\n",
      "    right = -100\n",
      "while fabs(theta) > 0.1:\n",
      "    robot.move(left,right)\n",
      "    theta = robot.ball[1]\n",
      "robot.move(0,0)"
     ],
     "language": "python",
     "metadata": {},
     "outputs": [],
     "prompt_number": 40
    },
    {
     "cell_type": "markdown",
     "metadata": {},
     "source": [
      "#### Approach the ball"
     ]
    },
    {
     "cell_type": "code",
     "collapsed": false,
     "input": [
      "while robot.ball[0] > 0.15:\n",
      "    robot.move(500,500)\n",
      "robot.move(0,0)"
     ],
     "language": "python",
     "metadata": {},
     "outputs": [],
     "prompt_number": 41
    },
    {
     "cell_type": "markdown",
     "metadata": {},
     "source": [
      "#### Turn 90\u00ba wrt the ball"
     ]
    },
    {
     "cell_type": "code",
     "collapsed": false,
     "input": [
      "while robot.ball[1] < math.pi/2:\n",
      "    robot.move(50,-50)\n",
      "robot.move(0,0)"
     ],
     "language": "python",
     "metadata": {},
     "outputs": [],
     "prompt_number": 42
    },
    {
     "cell_type": "markdown",
     "metadata": {},
     "source": [
      "#### Go around the ball until alignment"
     ]
    },
    {
     "cell_type": "code",
     "collapsed": false,
     "input": [
      "def diff_angle(a,b):\n",
      "    return math.atan2(sin(a-b), cos(a-b))\n",
      "\n",
      "left = 100\n",
      "dw = 0.053\n",
      "R = 0.15\n",
      "right = left * (2*R + dw) / (2*R - dw)\n",
      "while math.fabs(diff_angle(robot.ball[1],robot.goal[1])) > 0.1:\n",
      "    robot.move(left,right)\n",
      "robot.move(0,0)"
     ],
     "language": "python",
     "metadata": {},
     "outputs": [],
     "prompt_number": 43
    },
    {
     "cell_type": "markdown",
     "metadata": {},
     "source": [
      "#### Turn to the ball"
     ]
    },
    {
     "cell_type": "code",
     "collapsed": false,
     "input": [
      "theta = robot.ball[1]\n",
      "if theta > 0:\n",
      "    left = -100\n",
      "    right = 100\n",
      "else:\n",
      "    left = 100\n",
      "    right = -100\n",
      "while fabs(theta) > 0.1:\n",
      "    robot.move(left,right)\n",
      "    theta = robot.ball[1]\n",
      "robot.move(0,0)"
     ],
     "language": "python",
     "metadata": {},
     "outputs": [],
     "prompt_number": 44
    },
    {
     "cell_type": "markdown",
     "metadata": {},
     "source": [
      "#### Kick the ball"
     ]
    },
    {
     "cell_type": "code",
     "collapsed": false,
     "input": [
      "while robot.ball[0] > 0.1:\n",
      "    robot.move(500,500)\n",
      "\n",
      "robot.move(1000,1000,0.05)\n",
      "robot.move(0,0)"
     ],
     "language": "python",
     "metadata": {},
     "outputs": [],
     "prompt_number": 45
    },
    {
     "cell_type": "markdown",
     "metadata": {},
     "source": [
      "---\n",
      "\n",
      "### Try-a-Bot: an open source guide for robot programming\n",
      "\n",
      "Developed by:\n",
      "[![Robotic Intelligence Lab @ UJI](img/logo/robinlab.png \"Robotic Intelligence Lab @ UJI\")](http://robinlab.uji.es)\n",
      "\n",
      "Sponsored by:\n",
      "<table>\n",
      "<tr>\n",
      "<td style=\"border:1px solid #ffffff ;\">[![IEEE Robotics and Automation Society](img/logo/ras.png \"IEEE Robotics and Automation Society\")](http://www.ieee-ras.org)</td>\n",
      "<td style=\"border:1px solid #ffffff ;\">[![Cyberbotics](img/logo/cyberbotics.png \"Cyberbotics\")](http://www.cyberbotics.com)</td>\n",
      "<td style=\"border:1px solid #ffffff ;\">[![The Construct](img/logo/theconstruct.png \"The Construct\")](http://www.theconstructsim.com)</td>\n",
      "</tr>\n",
      "</table>\n",
      "\n",
      "Follow us:\n",
      "<table>\n",
      "<tr>\n",
      "<td style=\"border:1px solid #ffffff ;\">[![Facebook](img/logo/facebook.png \"Facebook\")](https://www.facebook.com/RobotProgrammingNetwork)</td>\n",
      "<td style=\"border:1px solid #ffffff ;\">[![YouTube](img/logo/youtube.png \"YouTube\")](https://www.youtube.com/user/robotprogrammingnet)</td>\n",
      "</tr>\n",
      "</table>"
     ]
    }
   ],
   "metadata": {}
  }
 ]
}