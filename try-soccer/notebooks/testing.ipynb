{
 "metadata": {
  "name": "",
  "signature": "sha256:341bca16eec7a1f4bfc5c0e60a3ebf137231cfe0b2a23e82eff7a1a486cb5a14"
 },
 "nbformat": 3,
 "nbformat_minor": 0,
 "worksheets": [
  {
   "cells": [
    {
     "cell_type": "code",
     "collapsed": false,
     "input": [
      "from e_puck.robot import ePuck"
     ],
     "language": "python",
     "metadata": {},
     "outputs": [],
     "prompt_number": 1
    },
    {
     "cell_type": "code",
     "collapsed": false,
     "input": [
      "import cv2"
     ],
     "language": "python",
     "metadata": {},
     "outputs": [],
     "prompt_number": 2
    },
    {
     "cell_type": "code",
     "collapsed": false,
     "input": [
      "robot_1 = ePuck('epuck_1')\n",
      "robot_2 = ePuck('epuck_2')"
     ],
     "language": "python",
     "metadata": {},
     "outputs": [],
     "prompt_number": 3
    },
    {
     "cell_type": "code",
     "collapsed": false,
     "input": [
      "robot_1.position"
     ],
     "language": "python",
     "metadata": {},
     "outputs": [
      {
       "metadata": {},
       "output_type": "pyout",
       "prompt_number": 4,
       "text": [
        "(-1.480567452920422, -0.1690017573174108)"
       ]
      }
     ],
     "prompt_number": 4
    },
    {
     "cell_type": "code",
     "collapsed": false,
     "input": [
      "robot_1.orientation"
     ],
     "language": "python",
     "metadata": {},
     "outputs": [
      {
       "metadata": {},
       "output_type": "pyout",
       "prompt_number": 5,
       "text": [
        "3.0226944127517497"
       ]
      }
     ],
     "prompt_number": 5
    },
    {
     "cell_type": "code",
     "collapsed": false,
     "input": [
      "robot_2.position"
     ],
     "language": "python",
     "metadata": {},
     "outputs": [
      {
       "metadata": {},
       "output_type": "pyout",
       "prompt_number": 6,
       "text": [
        "(-1.0000000000001341, 1.6822468045196428e-10)"
       ]
      }
     ],
     "prompt_number": 6
    },
    {
     "cell_type": "code",
     "collapsed": false,
     "input": [
      "robot_2.orientation"
     ],
     "language": "python",
     "metadata": {},
     "outputs": [
      {
       "metadata": {},
       "output_type": "pyout",
       "prompt_number": 7,
       "text": [
        "0.0007963267948782882"
       ]
      }
     ],
     "prompt_number": 7
    },
    {
     "cell_type": "code",
     "collapsed": false,
     "input": [
      "robot_1.ball"
     ],
     "language": "python",
     "metadata": {},
     "outputs": [
      {
       "metadata": {},
       "output_type": "pyout",
       "prompt_number": 6,
       "text": [
        "(0.12301345310014251, 2.232772975454232)"
       ]
      }
     ],
     "prompt_number": 6
    },
    {
     "cell_type": "code",
     "collapsed": false,
     "input": [
      "robot_2.ball"
     ],
     "language": "python",
     "metadata": {},
     "outputs": [
      {
       "metadata": {},
       "output_type": "pyout",
       "prompt_number": 11,
       "text": [
        "(1.2747620108860627, 0.1436570152921366)"
       ]
      }
     ],
     "prompt_number": 11
    },
    {
     "cell_type": "code",
     "collapsed": false,
     "input": [
      "robot_1.opponent"
     ],
     "language": "python",
     "metadata": {},
     "outputs": [
      {
       "metadata": {},
       "output_type": "pyout",
       "prompt_number": 7,
       "text": [
        "(1.3193427838479825, -2.8943014076196443)"
       ]
      }
     ],
     "prompt_number": 7
    },
    {
     "cell_type": "code",
     "collapsed": false,
     "input": [
      "robot_2.opponent"
     ],
     "language": "python",
     "metadata": {},
     "outputs": [
      {
       "metadata": {},
       "output_type": "pyout",
       "prompt_number": 8,
       "text": [
        "(1.3193427838479825, 0.055221576195361166)"
       ]
      }
     ],
     "prompt_number": 8
    },
    {
     "cell_type": "code",
     "collapsed": false,
     "input": [
      "robot_1.goal"
     ],
     "language": "python",
     "metadata": {},
     "outputs": [
      {
       "metadata": {},
       "output_type": "pyout",
       "prompt_number": 9,
       "text": [
        "(0.17011530754865367, -1.3374165641309341)"
       ]
      }
     ],
     "prompt_number": 9
    },
    {
     "cell_type": "code",
     "collapsed": false,
     "input": [
      "robot_2.goal"
     ],
     "language": "python",
     "metadata": {},
     "outputs": [
      {
       "metadata": {},
       "output_type": "pyout",
       "prompt_number": 10,
       "text": [
        "(1.6720842672379999, 3.0684645199884315)"
       ]
      }
     ],
     "prompt_number": 10
    },
    {
     "cell_type": "code",
     "collapsed": false,
     "input": [
      "robot_1.move(1000,1000,0.35)\n",
      "robot_1.move(0,0,0)"
     ],
     "language": "python",
     "metadata": {},
     "outputs": [],
     "prompt_number": 17
    },
    {
     "cell_type": "code",
     "collapsed": false,
     "input": [
      "robot_2.move(-500,500,0.35)\n",
      "robot_2.move(0,0,0)"
     ],
     "language": "python",
     "metadata": {},
     "outputs": [],
     "prompt_number": 10
    },
    {
     "cell_type": "code",
     "collapsed": false,
     "input": [
      "robot_1.gsValues"
     ],
     "language": "python",
     "metadata": {},
     "outputs": [
      {
       "metadata": {},
       "output_type": "pyout",
       "prompt_number": 5,
       "text": [
        "[295, 312, 362]"
       ]
      }
     ],
     "prompt_number": 5
    },
    {
     "cell_type": "code",
     "collapsed": false,
     "input": [
      "robot_1.position"
     ],
     "language": "python",
     "metadata": {},
     "outputs": [
      {
       "metadata": {},
       "output_type": "pyout",
       "prompt_number": 6,
       "text": [
        "(0.9999999999998658, 1.6822470064108722e-10)"
       ]
      }
     ],
     "prompt_number": 6
    },
    {
     "cell_type": "code",
     "collapsed": false,
     "input": [
      "robot_2.orientation"
     ],
     "language": "python",
     "metadata": {},
     "outputs": [
      {
       "metadata": {},
       "output_type": "pyout",
       "prompt_number": 11,
       "text": [
        "0.0007518410532667552"
       ]
      }
     ],
     "prompt_number": 11
    },
    {
     "cell_type": "code",
     "collapsed": false,
     "input": [
      "%matplotlib inline"
     ],
     "language": "python",
     "metadata": {},
     "outputs": [],
     "prompt_number": 8
    },
    {
     "cell_type": "code",
     "collapsed": false,
     "input": [
      "imshow(robot_1.rgb_image)"
     ],
     "language": "python",
     "metadata": {},
     "outputs": [
      {
       "metadata": {},
       "output_type": "pyout",
       "prompt_number": 9,
       "text": [
        "<matplotlib.image.AxesImage at 0x7f126c0ffb50>"
       ]
      },
      {
       "metadata": {},
       "output_type": "display_data",
       "png": "[encoded data removed]",
       "text": [
        "<matplotlib.figure.Figure at 0x7f127c48cbd0>"
       ]
      }
     ],
     "prompt_number": 9
    },
    {
     "cell_type": "code",
     "collapsed": false,
     "input": [
      "robot_1.move(1000,1000,0.35)\n",
      "robot_1.move(0,0)"
     ],
     "language": "python",
     "metadata": {},
     "outputs": [],
     "prompt_number": 8
    },
    {
     "cell_type": "code",
     "collapsed": false,
     "input": [
      "def maxArea(contours):\n",
      "    imax = 0\n",
      "    x,y,w,h = cv2.boundingRect(contours[0])\n",
      "    maxA = w*h\n",
      "    i = 1\n",
      "    lc = len(contours)\n",
      "    while i<lc:\n",
      "        x,y,w,h = cv2.boundingRect(contours[i])\n",
      "        if w*h > maxA:\n",
      "            maxA = w*h\n",
      "            imax = i\n",
      "        i = i + 1\n",
      "    return imax"
     ],
     "language": "python",
     "metadata": {},
     "outputs": [],
     "prompt_number": 10
    },
    {
     "cell_type": "code",
     "collapsed": false,
     "input": [
      "def findBall(image, lower = (160,128,128), upper = (180,255,255)):\n",
      "    mask = cv2.inRange(image, lower, upper)\n",
      "    #mask = cv2.erode(mask, None, iterations=2)\n",
      "    #mask = cv2.dilate(mask, None, iterations=2)\n",
      "    contours, im2 = cv2.findContours(mask, cv2.RETR_EXTERNAL, cv2.CHAIN_APPROX_SIMPLE)\n",
      "    lc = len(contours)\n",
      "    if lc>0:\n",
      "        found = True\n",
      "        imax = maxArea(contours)\n",
      "        maxCnt = contours[imax]\n",
      "        x,y,w,h = cv2.boundingRect(maxCnt)\n",
      "    else:\n",
      "        found = False\n",
      "        x,y,w,h = 0,0,0,0\n",
      "    return found,x,y,w,h"
     ],
     "language": "python",
     "metadata": {},
     "outputs": [],
     "prompt_number": 11
    },
    {
     "cell_type": "code",
     "collapsed": false,
     "input": [
      "found,x,y,w,h=findBall(robot_1.hsv_image)\n",
      "imshow(robot_1.rgb_image)\n",
      "if found:\n",
      "    print('Ball bounding box: (x,y)=(%d,%d), w=%d, h=%d ' % (x,y,w,h))\n",
      "    plot([x,x+w,x+w,x,x],[y,y,y+h,y+h,y],'y-')\n",
      "else:\n",
      "    print('Ball not found')"
     ],
     "language": "python",
     "metadata": {},
     "outputs": [
      {
       "output_type": "stream",
       "stream": "stdout",
       "text": [
        "Ball bounding box: (x,y)=(24,17), w=4, h=2 \n"
       ]
      },
      {
       "metadata": {},
       "output_type": "display_data",
       "png": "[encoded data removed]",
       "text": [
        "<matplotlib.figure.Figure at 0x7f13140c0d50>"
       ]
      }
     ],
     "prompt_number": 12
    },
    {
     "cell_type": "code",
     "collapsed": false,
     "input": [
      "try:\n",
      "    while True:\n",
      "        found,x,y,w,h=findBall(robot_1.hsv_image)\n",
      "        if found:\n",
      "            xm = x - 26 + w/2\n",
      "            if xm > -10 and xm < 10:\n",
      "                #robot.move(250+xm*10,250-xm*10,0.1)\n",
      "                robot_1.move(500,500,0.1)\n",
      "            elif xm <= -10:\n",
      "                robot_1.move(-50,50,0.1)\n",
      "            else:\n",
      "                robot_1.move(50,-50,0.1)\n",
      "        else:\n",
      "            robot_1.move(150,-150,0.1)\n",
      "        found,x,y,w,h=findBall(robot_2.hsv_image)\n",
      "        if found:\n",
      "            xm = x - 26 + w/2\n",
      "            if xm > -10 and xm < 10:\n",
      "                #robot.move(250+xm*10,250-xm*10,0.1)\n",
      "                robot_2.move(500,500,0.1)\n",
      "            elif xm <= -10:\n",
      "                robot_1.move(-50,50,0.1)\n",
      "            else:\n",
      "                robot_1.move(50,-50,0.1)\n",
      "        else:\n",
      "            robot_2.move(150,-150,0.1)\n",
      "except KeyboardInterrupt:\n",
      "    pass\n",
      "robot_1.move(0,0)\n",
      "robot_2.move(0,0)"
     ],
     "language": "python",
     "metadata": {},
     "outputs": []
    },
    {
     "cell_type": "code",
     "collapsed": false,
     "input": [],
     "language": "python",
     "metadata": {},
     "outputs": []
    }
   ],
   "metadata": {}
  }
 ]
}