{
 "cells": [
  {
   "cell_type": "markdown",
   "metadata": {},
   "source": [
    "### Try-a-Bot: Lego Mindstorms Rover\n",
    "---\n",
    "<img style=\"float: right; border: 10px solid white;\" src=\"img/obstacle.png\">\n",
    "###### <p style=\"text-align: left;\">[&laquo; Previous: Line Following](./Line%20Following.ipynb \"Line Following\")</p>\n",
    "\n",
    "# Obstacle Avoidance\n",
    "\n",
    "For completing the line following task, the rover must detect and avoid the obstacle placed in the middle of its trajectory.\n",
    "\n",
    "If you need to restart the simulation, please run the following cell, otherwise you may skip it."
   ]
  },
  {
   "cell_type": "code",
   "execution_count": null,
   "metadata": {},
   "outputs": [],
   "source": [
    "!restart_sim"
   ]
  },
  {
   "cell_type": "markdown",
   "metadata": {},
   "source": [
    "As in previous notebooks, you need to define a `Rover` object:"
   ]
  },
  {
   "cell_type": "code",
   "execution_count": null,
   "metadata": {},
   "outputs": [],
   "source": [
    "from rover.robot import Rover\n",
    "robot = Rover()"
   ]
  },
  {
   "cell_type": "markdown",
   "metadata": {},
   "source": [
    "<img style=\"float: right; border: 10px solid white;\" src=\"img/avoiding.png\">\n",
    "For avoiding the obstacle, you may try a sequence of motions, e.g.:\n",
    "* move backward\n",
    "* turn left\n",
    "* move forward\n",
    "* turn right\n",
    "* ...\n",
    "\n",
    "During those motions, the light sensor is not used.\n",
    "\n",
    "You need to calibrate the speed and duration of each step, but it is recommended that, at the last step, the robot stops when the line is detected again.\n",
    "\n",
    "Here is a sample code:"
   ]
  },
  {
   "cell_type": "code",
   "execution_count": null,
   "metadata": {},
   "outputs": [],
   "source": [
    "robot.move(-50,-50,1)\n",
    "robot.move(50,-50,0.75)\n",
    "robot.move(100,100,1.25)\n",
    "# more steps here\n",
    "# ...\n",
    "# ...\n",
    "while ...: # check the light sensor for the final step\n",
    "    ..."
   ]
  },
  {
   "cell_type": "markdown",
   "metadata": {},
   "source": [
    "#### [Solution](./Solutions.ipynb#avoid_obstacle)"
   ]
  },
  {
   "cell_type": "markdown",
   "metadata": {},
   "source": [
    "---\n",
    "###### <p style=\"text-align: right;\">[Next: Line Following with Obstacle Avoidance &raquo;](./Line%20Following%20with%20Obstacle%20Avoidance.ipynb \"Line Following with Obstacle Avoidance\")</p>\n"
   ]
  },
  {
   "cell_type": "markdown",
   "metadata": {},
   "source": [
    "---\n",
    "\n",
    "### Try-a-Bot: an open source guide for robot programming\n",
    "\n",
    "Developed by:\n",
    "[![Robotic Intelligence Lab @ UJI](img/logo/robinlab.png \"Robotic Intelligence Lab @ UJI\")](http://robinlab.uji.es)\n",
    "\n",
    "Sponsored by:\n",
    "<table>\n",
    "<tr>\n",
    "<td style=\"border:1px solid #ffffff ;\">[![IEEE Robotics and Automation Society](img/logo/ras.png \"IEEE Robotics and Automation Society\")](http://www.ieee-ras.org)</td>\n",
    "<td style=\"border:1px solid #ffffff ;\">[![Cyberbotics](img/logo/cyberbotics.png \"Cyberbotics\")](http://www.cyberbotics.com)</td>\n",
    "<td style=\"border:1px solid #ffffff ;\">[![The Construct](img/logo/theconstruct.png \"The Construct\")](http://www.theconstructsim.com)</td>\n",
    "</tr>\n",
    "</table>\n",
    "\n",
    "Follow us:\n",
    "<table>\n",
    "<tr>\n",
    "<td style=\"border:1px solid #ffffff ;\">[![Facebook](img/logo/facebook.png \"Facebook\")](https://www.facebook.com/RobotProgrammingNetwork)</td>\n",
    "<td style=\"border:1px solid #ffffff ;\">[![YouTube](img/logo/youtube.png \"YouTube\")](https://www.youtube.com/user/robotprogrammingnet)</td>\n",
    "</tr>\n",
    "</table>"
   ]
  }
 ],
 "metadata": {
  "kernelspec": {
   "display_name": "Python 2",
   "language": "python",
   "name": "python2"
  },
  "language_info": {
   "codemirror_mode": {
    "name": "ipython",
    "version": 2
   },
   "file_extension": ".py",
   "mimetype": "text/x-python",
   "name": "python",
   "nbconvert_exporter": "python",
   "pygments_lexer": "ipython2",
   "version": "2.7.6"
  }
 },
 "nbformat": 4,
 "nbformat_minor": 1
}
