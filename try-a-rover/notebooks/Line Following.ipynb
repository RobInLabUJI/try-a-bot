{
 "cells": [
  {
   "cell_type": "markdown",
   "metadata": {},
   "source": [
    "### Try-a-Bot: Lego Mindstorms Rover\n",
    "---\n",
    "<img style=\"float: right; border: 10px solid white;\" src=\"img/line_following.png\">\n",
    "###### <p style=\"text-align: left;\">[&laquo; Previous: First Steps](./First%20Steps.ipynb \"First Steps\")</p>\n",
    "# Line Following\n",
    "\n",
    "Line following is a typical problem on industrial robots, and it is one of the most useful applications because it allows the robot to move from one point to another to do tasks.\n",
    "\n",
    "The rover is going to use its light sensor to follow the black line on the white floor.\n",
    "\n",
    "If you need to restart the simulation, please run the following cell, otherwise you may skip it."
   ]
  },
  {
   "cell_type": "code",
   "execution_count": null,
   "metadata": {},
   "outputs": [],
   "source": [
    "!restart_sim"
   ]
  },
  {
   "cell_type": "markdown",
   "metadata": {},
   "source": [
    "As in the previous notebook, you need to define a `Rover` object:"
   ]
  },
  {
   "cell_type": "code",
   "execution_count": null,
   "metadata": {},
   "outputs": [],
   "source": [
    "from rover.robot import Rover\n",
    "robot = Rover()"
   ]
  },
  {
   "cell_type": "markdown",
   "metadata": {},
   "source": [
    "We need to learn the sensor values for black and white.\n",
    "\n",
    "This can be done empirically:\n",
    "let's move the robot, store some sensor readings, and plot the data.\n",
    "\n",
    "Make sure that the robot moves across the line, otherwise you will always get a constant value!"
   ]
  },
  {
   "cell_type": "code",
   "execution_count": null,
   "metadata": {},
   "outputs": [],
   "source": [
    "data = []\n",
    "for i in range(100):\n",
    "    robot.move(50,50)\n",
    "    data.append(robot.s2)\n",
    "robot.move(0,0)"
   ]
  },
  {
   "cell_type": "code",
   "execution_count": null,
   "metadata": {},
   "outputs": [],
   "source": [
    "%matplotlib inline\n",
    "import matplotlib.pyplot as plt\n",
    "\n",
    "plt.plot(data);"
   ]
  },
  {
   "cell_type": "markdown",
   "metadata": {},
   "source": [
    "### Exercise\n",
    "<img style=\"float: right; border: 10px solid white;\" src=\"img/line_sensing.png\">\n",
    "\n",
    "Fill the code below for making the robot follow the line. \n",
    "\n",
    "Since there is a single light sensor, the recommended solution consists of three cases:\n",
    "1. Sensor detects low value (white) &rarr; turn left\n",
    "2. Sensor detects high value (black) &rarr; turn right\n",
    "3. Sensor detects intermediate value &rarr; move forward"
   ]
  },
  {
   "cell_type": "code",
   "execution_count": null,
   "metadata": {},
   "outputs": [],
   "source": [
    "for i in range(100):\n",
    "    if robot.s2 < ...:\n",
    "        robot.move(...)\n",
    "    elif robot.s2 < ...:\n",
    "        robot.move(...)\n",
    "    else:\n",
    "        robot.move(...)\n",
    "robot.move(0,0)"
   ]
  },
  {
   "cell_type": "markdown",
   "metadata": {},
   "source": [
    "#### [Solution](./Solutions.ipynb#line_following)"
   ]
  },
  {
   "cell_type": "markdown",
   "metadata": {},
   "source": [
    "Your robot will walk for a few seconds, then stop. You may modify the code so that the robot stops when detecting the obstacle, by replacing the `for` loop with a conditional loop."
   ]
  },
  {
   "cell_type": "code",
   "execution_count": null,
   "metadata": {},
   "outputs": [],
   "source": [
    "while (...):\n",
    "    if robot.s2 < ...:\n",
    "        robot.move(...)\n",
    "    elif robot.s2 < ...:\n",
    "        robot.move(...)\n",
    "    else:\n",
    "        robot.move(...)\n",
    "robot.move(0,0)"
   ]
  },
  {
   "cell_type": "markdown",
   "metadata": {},
   "source": [
    "#### [Solution](./Solutions.ipynb#line_following_obstacle)"
   ]
  },
  {
   "cell_type": "markdown",
   "metadata": {},
   "source": [
    "---\n",
    "###### <p style=\"text-align: right;\">[Next: Obstacle Avoidance &raquo;](./Obstacle%20Avoidance.ipynb \"Obstacle Avoidance\")</p>"
   ]
  },
  {
   "cell_type": "markdown",
   "metadata": {},
   "source": [
    "---\n",
    "\n",
    "### Try-a-Bot: an open source guide for robot programming\n",
    "\n",
    "Developed by:\n",
    "[![Robotic Intelligence Lab @ UJI](img/logo/robinlab.png \"Robotic Intelligence Lab @ UJI\")](http://robinlab.uji.es)\n",
    "\n",
    "Sponsored by:\n",
    "<table>\n",
    "<tr>\n",
    "<td style=\"border:1px solid #ffffff ;\">[![IEEE Robotics and Automation Society](img/logo/ras.png \"IEEE Robotics and Automation Society\")](http://www.ieee-ras.org)</td>\n",
    "<td style=\"border:1px solid #ffffff ;\">[![Cyberbotics](img/logo/cyberbotics.png \"Cyberbotics\")](http://www.cyberbotics.com)</td>\n",
    "<td style=\"border:1px solid #ffffff ;\">[![The Construct](img/logo/theconstruct.png \"The Construct\")](http://www.theconstructsim.com)</td>\n",
    "</tr>\n",
    "</table>\n",
    "\n",
    "Follow us:\n",
    "<table>\n",
    "<tr>\n",
    "<td style=\"border:1px solid #ffffff ;\">[![Facebook](img/logo/facebook.png \"Facebook\")](https://www.facebook.com/RobotProgrammingNetwork)</td>\n",
    "<td style=\"border:1px solid #ffffff ;\">[![YouTube](img/logo/youtube.png \"YouTube\")](https://www.youtube.com/user/robotprogrammingnet)</td>\n",
    "</tr>\n",
    "</table>"
   ]
  }
 ],
 "metadata": {
  "kernelspec": {
   "display_name": "Python 2",
   "language": "python",
   "name": "python2"
  },
  "language_info": {
   "codemirror_mode": {
    "name": "ipython",
    "version": 2
   },
   "file_extension": ".py",
   "mimetype": "text/x-python",
   "name": "python",
   "nbconvert_exporter": "python",
   "pygments_lexer": "ipython2",
   "version": "2.7.6"
  }
 },
 "nbformat": 4,
 "nbformat_minor": 1
}
