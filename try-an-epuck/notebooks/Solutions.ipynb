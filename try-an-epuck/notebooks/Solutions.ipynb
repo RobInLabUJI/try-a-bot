{
 "cells": [
  {
   "cell_type": "markdown",
   "metadata": {},
   "source": [
    "### Try-a-Bot: e-puck education robot\n",
    "---\n",
    "# Solutions"
   ]
  },
  {
   "cell_type": "code",
   "execution_count": null,
   "metadata": {},
   "outputs": [],
   "source": [
    "!restart_sim"
   ]
  },
  {
   "cell_type": "code",
   "execution_count": null,
   "metadata": {},
   "outputs": [],
   "source": [
    "from e_puck.robot import ePuck\n",
    "robot = ePuck()"
   ]
  },
  {
   "cell_type": "markdown",
   "metadata": {},
   "source": [
    "### <a name =\"line_following\"></a>Line Following"
   ]
  },
  {
   "cell_type": "code",
   "execution_count": null,
   "metadata": {},
   "outputs": [],
   "source": [
    "FORWARD_SPEED = 500\n",
    "K_GS_SPEED = 0.5\n",
    "\n",
    "for i in range(100):\n",
    "    difference = robot.gsValues[2] - robot.gsValues[0]\n",
    "    speedLeft = FORWARD_SPEED - K_GS_SPEED * difference\n",
    "    speedRight = FORWARD_SPEED + K_GS_SPEED * difference\n",
    "    robot.move(speedLeft,speedRight)\n",
    "robot.move(0,0)"
   ]
  },
  {
   "cell_type": "markdown",
   "metadata": {},
   "source": [
    "### <a name =\"line_following_datalog\"></a>Line Following with Data Logging"
   ]
  },
  {
   "cell_type": "code",
   "execution_count": null,
   "metadata": {},
   "outputs": [],
   "source": [
    "FORWARD_SPEED = 500\n",
    "K_GS_SPEED = 0.5\n",
    "\n",
    "data = []\n",
    "for i in range(100):\n",
    "    difference = robot.gsValues[2] - robot.gsValues[0]\n",
    "    speedLeft = FORWARD_SPEED - K_GS_SPEED * difference\n",
    "    speedRight = FORWARD_SPEED + K_GS_SPEED * difference\n",
    "    robot.move(speedLeft,speedRight)\n",
    "    data.append([robot.psValues[0],robot.psValues[7]])\n",
    "robot.move(0,0)\n",
    "\n",
    "%matplotlib inline\n",
    "import matplotlib.pyplot as plt\n",
    "\n",
    "plt.plot(data);\n",
    "plt.legend(['ps0','ps7']);"
   ]
  },
  {
   "cell_type": "markdown",
   "metadata": {},
   "source": [
    "### <a name =\"line_following_obstacle\"></a>Line Following until Obstacle Detected"
   ]
  },
  {
   "cell_type": "code",
   "execution_count": null,
   "metadata": {},
   "outputs": [],
   "source": [
    "FORWARD_SPEED = 500\n",
    "K_GS_SPEED = 0.5\n",
    "THRESHOLD = 1000\n",
    "\n",
    "while robot.psValues[0] < THRESHOLD and robot.psValues[7] < THRESHOLD:\n",
    "    difference = robot.gsValues[2] - robot.gsValues[0]\n",
    "    speedLeft = FORWARD_SPEED - K_GS_SPEED * difference\n",
    "    speedRight = FORWARD_SPEED + K_GS_SPEED * difference\n",
    "    robot.move(speedLeft,speedRight)\n",
    "robot.move(0,0)"
   ]
  },
  {
   "cell_type": "markdown",
   "metadata": {},
   "source": [
    "### <a name =\"simple_obstacle_avoidance\"></a>Simple Obstacle Avoidance"
   ]
  },
  {
   "cell_type": "code",
   "execution_count": null,
   "metadata": {},
   "outputs": [],
   "source": [
    "FORWARD_SPEED = 500\n",
    "THRESHOLD = 1000\n",
    "try:\n",
    "    while True:\n",
    "        if (robot.psValues[0] > THRESHOLD or robot.psValues[1] > THRESHOLD or\n",
    "            robot.psValues[6] > THRESHOLD or robot.psValues[7] > THRESHOLD):\n",
    "            speedLeft = -FORWARD_SPEED\n",
    "            speedRight = FORWARD_SPEED\n",
    "        else:\n",
    "            speedLeft = FORWARD_SPEED\n",
    "            speedRight = FORWARD_SPEED\n",
    "        robot.move(speedLeft,speedRight)\n",
    "except KeyboardInterrupt:\n",
    "    robot.move(0,0)"
   ]
  },
  {
   "cell_type": "markdown",
   "metadata": {},
   "source": [
    "### <a name =\"wall_following\"></a>Wall Following"
   ]
  },
  {
   "cell_type": "code",
   "execution_count": null,
   "metadata": {},
   "outputs": [],
   "source": [
    "F_D = 100 # Frontal distance\n",
    "D_D = 150 # diagonal distance\n",
    "L_D = 300 # lateral distance\n",
    "D_R = 5   # distance range\n",
    "\n",
    "try:\n",
    "    while True:\n",
    "        c_lateral = robot.psValues[2]\n",
    "        c_diag = robot.psValues[1]\n",
    "        if c_diag < D_D-D_R and c_lateral < L_D-D_R:\n",
    "            speed = [180,-20] # go Right\n",
    "        elif c_diag > D_D+D_R and c_lateral > L_D+D_R:\n",
    "            speed = [-20,180] # go Left\n",
    "        else:\n",
    "            speed = [200, 200] # go Straight\n",
    "        speedLeft = speed[0]\n",
    "        speedRight = speed[1]\n",
    "        robot.move(speedLeft,speedRight,0.1)\n",
    "except KeyboardInterrupt:\n",
    "    robot.move(0,0)"
   ]
  },
  {
   "cell_type": "markdown",
   "metadata": {},
   "source": [
    "---\n",
    "### <a name =\"line_following_obstacle_avoidance\"></a>Line Following with Obstacle Avoidance"
   ]
  },
  {
   "cell_type": "markdown",
   "metadata": {},
   "source": [
    "#### 1. Follow line until obstacle detected"
   ]
  },
  {
   "cell_type": "code",
   "execution_count": null,
   "metadata": {},
   "outputs": [],
   "source": [
    "FORWARD_SPEED = 500\n",
    "K_GS_SPEED = 0.5\n",
    "THRESHOLD = 1000\n",
    "\n",
    "while robot.psValues[0] < THRESHOLD and robot.psValues[7] < THRESHOLD:\n",
    "    difference = robot.gsValues[2] - robot.gsValues[0]\n",
    "    speedLeft = FORWARD_SPEED - K_GS_SPEED * difference\n",
    "    speedRight = FORWARD_SPEED + K_GS_SPEED * difference\n",
    "    robot.move(speedLeft,speedRight)\n",
    "robot.move(0,0)"
   ]
  },
  {
   "cell_type": "markdown",
   "metadata": {},
   "source": [
    "#### 2. Exit line"
   ]
  },
  {
   "cell_type": "code",
   "execution_count": null,
   "metadata": {},
   "outputs": [],
   "source": [
    "while robot.gsValues[0] < 400 or robot.gsValues[1] < 400 or robot.gsValues[2] < 400:\n",
    "    robot.move(-500,500)\n",
    "robot.move(0,0)"
   ]
  },
  {
   "cell_type": "markdown",
   "metadata": {},
   "source": [
    "#### 3. Avoid obstacle until rejoining the line"
   ]
  },
  {
   "cell_type": "code",
   "execution_count": null,
   "metadata": {},
   "outputs": [],
   "source": [
    "F_D = 100 # Frontal distance\n",
    "D_D = 150 # diagonal distance\n",
    "L_D = 300 # lateral distance\n",
    "D_R = 5   # distance range\n",
    "\n",
    "while robot.gsValues[0] > 500 and robot.gsValues[1] > 500 and robot.gsValues[2] > 500:\n",
    "    c_lateral = robot.psValues[2]\n",
    "    c_diag = robot.psValues[1]\n",
    "    if c_diag < D_D-D_R and c_lateral < L_D-D_R:\n",
    "        speed = [180,-20] # go Right\n",
    "    elif c_diag > D_D+D_R and c_lateral > L_D+D_R:\n",
    "        speed = [-20,180] # go Left\n",
    "    else:\n",
    "        speed = [200, 200] # go Straight\n",
    "    speedLeft = speed[0]\n",
    "    speedRight = speed[1]\n",
    "    robot.move(speedLeft,speedRight)\n",
    "robot.move(0,0)"
   ]
  },
  {
   "cell_type": "markdown",
   "metadata": {},
   "source": [
    "#### 4. Follow the line again"
   ]
  },
  {
   "cell_type": "code",
   "execution_count": null,
   "metadata": {},
   "outputs": [],
   "source": [
    "FORWARD_SPEED = 500\n",
    "K_GS_SPEED = 0.5\n",
    "THRESHOLD = 1000\n",
    "\n",
    "while robot.psValues[0] < THRESHOLD and robot.psValues[7] < THRESHOLD:\n",
    "    difference = robot.gsValues[2] - robot.gsValues[0]\n",
    "    speedLeft = FORWARD_SPEED - K_GS_SPEED * difference\n",
    "    speedRight = FORWARD_SPEED + K_GS_SPEED * difference\n",
    "    robot.move(speedLeft,speedRight)\n",
    "robot.move(0,0)"
   ]
  },
  {
   "cell_type": "markdown",
   "metadata": {},
   "source": [
    "---\n",
    "\n",
    "### Try-a-Bot: an open source guide for robot programming\n",
    "\n",
    "Developed by:\n",
    "[![Robotic Intelligence Lab @ UJI](img/logo/robinlab.png \"Robotic Intelligence Lab @ UJI\")](http://robinlab.uji.es)\n",
    "\n",
    "Sponsored by:\n",
    "<table>\n",
    "<tr>\n",
    "<td style=\"border:1px solid #ffffff ;\">[![IEEE Robotics and Automation Society](img/logo/ras.png \"IEEE Robotics and Automation Society\")](http://www.ieee-ras.org)</td>\n",
    "<td style=\"border:1px solid #ffffff ;\">[![Cyberbotics](img/logo/cyberbotics.png \"Cyberbotics\")](http://www.cyberbotics.com)</td>\n",
    "<td style=\"border:1px solid #ffffff ;\">[![The Construct](img/logo/theconstruct.png \"The Construct\")](http://www.theconstructsim.com)</td>\n",
    "</tr>\n",
    "</table>\n",
    "\n",
    "Follow us:\n",
    "<table>\n",
    "<tr>\n",
    "<td style=\"border:1px solid #ffffff ;\">[![Facebook](img/logo/facebook.png \"Facebook\")](https://www.facebook.com/RobotProgrammingNetwork)</td>\n",
    "<td style=\"border:1px solid #ffffff ;\">[![YouTube](img/logo/youtube.png \"YouTube\")](https://www.youtube.com/user/robotprogrammingnet)</td>\n",
    "</tr>\n",
    "</table>"
   ]
  }
 ],
 "metadata": {
  "kernelspec": {
   "display_name": "Python 2",
   "language": "python",
   "name": "python2"
  },
  "language_info": {
   "codemirror_mode": {
    "name": "ipython",
    "version": 2
   },
   "file_extension": ".py",
   "mimetype": "text/x-python",
   "name": "python",
   "nbconvert_exporter": "python",
   "pygments_lexer": "ipython2",
   "version": "2.7.6"
  }
 },
 "nbformat": 4,
 "nbformat_minor": 1
}
