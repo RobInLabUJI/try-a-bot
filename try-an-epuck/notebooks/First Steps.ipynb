{
 "cells": [
  {
   "cell_type": "markdown",
   "metadata": {},
   "source": [
    "### Try-a-Bot: e-puck educational robot\n",
    "---\n",
    "<img style=\"float: right; border: 10px solid white;\" src=\"img/epuck.png\">\n",
    "# First Steps\n",
    "The [e-puck](http://www.e-puck.org/index.php) is a small mobile robot developed at the EPFL, consisting of a controller, two motors -left and right- connected to the wheels, and several sensors (infrared, camera, etc).\n",
    "\n",
    "It has been developed as an open tool. An article illustrating the concept and design is:\n",
    "\n",
    "Mondada, F. et al. (2009) The e-puck, a Robot Designed for Education in Engineering. *Proceedings of the 9th Conference on Autonomous Robot Systems and Competitions*, 1(1) pp. 59-65.\n",
    "\n",
    "The full PDF can be found [here](http://infoscience.epfl.ch/getfile.py?recid=135236&mode=best).\n",
    "\n",
    "At the beginning of the code, you must import the class `ePuck`.\n"
   ]
  },
  {
   "cell_type": "code",
   "execution_count": null,
   "metadata": {},
   "outputs": [],
   "source": [
    "from e_puck.robot import ePuck"
   ]
  },
  {
   "cell_type": "markdown",
   "metadata": {},
   "source": [
    "Then you should define a `ePuck` object."
   ]
  },
  {
   "cell_type": "code",
   "execution_count": null,
   "metadata": {},
   "outputs": [],
   "source": [
    "robot = ePuck()"
   ]
  },
  {
   "cell_type": "markdown",
   "metadata": {},
   "source": [
    "<img style=\"float: right; border: 10px solid white;\" src=\"img/ir_sensors.png\">\n",
    "### Sensors\n",
    "\n",
    "The e-puck robot is equipped with 8 IR proximity sensors placed as illustrated in the figure:\n",
    "\n",
    "These sensors measure ambient light and proximity of obstacles in a 4 cm range.\n",
    "\n",
    "In addition, a ground sensors module extension of the real e-puck robot adds 3 more IR sensors pointing to the ground in front of the robot.\n",
    "\n",
    "The ground sensors allow the robot to see the color level of the ground at three locations in a line across its front.\n",
    "\n",
    "Each robot sensor has its corresponding object **attribute**.\n"
   ]
  },
  {
   "cell_type": "code",
   "execution_count": null,
   "metadata": {},
   "outputs": [],
   "source": [
    "robot.gsValues    # Infrared ground sensors"
   ]
  },
  {
   "cell_type": "code",
   "execution_count": null,
   "metadata": {},
   "outputs": [],
   "source": [
    "robot.psValues    # Infrared proximity sensors"
   ]
  },
  {
   "cell_type": "markdown",
   "metadata": {},
   "source": [
    "### Motors\n",
    "\n",
    "There is a single **method** for activating the motors of the robot, and making it move.\n",
    "\n",
    "The two parameters are the left and right speed for each motor."
   ]
  },
  {
   "cell_type": "code",
   "execution_count": null,
   "metadata": {},
   "outputs": [],
   "source": [
    "robot.move(1000,1000,1)    # left and right speeds\n",
    "robot.move(0,0)"
   ]
  },
  {
   "cell_type": "markdown",
   "metadata": {},
   "source": [
    "You can change the speed of each wheel between -1000 and 1000 for moving the robot forward, backward, or turning. A third optional parameter is the number of seconds of motion (default 1s)."
   ]
  },
  {
   "cell_type": "code",
   "execution_count": null,
   "metadata": {},
   "outputs": [],
   "source": [
    "robot.move(-750,280,0.75)\n",
    "robot.move(0,0)"
   ]
  },
  {
   "cell_type": "markdown",
   "metadata": {},
   "source": [
    "You can freely edit the previous code, try different motions, and display the values of the sensors. When you are done, please proceed to the next notebook."
   ]
  },
  {
   "cell_type": "markdown",
   "metadata": {},
   "source": [
    "---\n",
    "###### <p style=\"text-align: right;\">[Next: Line Following &raquo;](./Line%20Following.ipynb \"Line Following\")</p>\n"
   ]
  },
  {
   "cell_type": "markdown",
   "metadata": {},
   "source": [
    "---\n",
    "\n",
    "### Try-a-Bot: an open source guide for robot programming\n",
    "\n",
    "Developed by:\n",
    "[![Robotic Intelligence Lab @ UJI](img/logo/robinlab.png \"Robotic Intelligence Lab @ UJI\")](http://robinlab.uji.es)\n",
    "\n",
    "Sponsored by:\n",
    "<table>\n",
    "<tr>\n",
    "<td style=\"border:1px solid #ffffff ;\">[![IEEE Robotics and Automation Society](img/logo/ras.png \"IEEE Robotics and Automation Society\")](http://www.ieee-ras.org)</td>\n",
    "<td style=\"border:1px solid #ffffff ;\">[![Cyberbotics](img/logo/cyberbotics.png \"Cyberbotics\")](http://www.cyberbotics.com)</td>\n",
    "<td style=\"border:1px solid #ffffff ;\">[![The Construct](img/logo/theconstruct.png \"The Construct\")](http://www.theconstructsim.com)</td>\n",
    "</tr>\n",
    "</table>\n",
    "\n",
    "Follow us:\n",
    "<table>\n",
    "<tr>\n",
    "<td style=\"border:1px solid #ffffff ;\">[![Facebook](img/logo/facebook.png \"Facebook\")](https://www.facebook.com/RobotProgrammingNetwork)</td>\n",
    "<td style=\"border:1px solid #ffffff ;\">[![YouTube](img/logo/youtube.png \"YouTube\")](https://www.youtube.com/user/robotprogrammingnet)</td>\n",
    "</tr>\n",
    "</table>\n"
   ]
  }
 ],
 "metadata": {
  "kernelspec": {
   "display_name": "Python 2",
   "language": "python",
   "name": "python2"
  },
  "language_info": {
   "codemirror_mode": {
    "name": "ipython",
    "version": 2
   },
   "file_extension": ".py",
   "mimetype": "text/x-python",
   "name": "python",
   "nbconvert_exporter": "python",
   "pygments_lexer": "ipython2",
   "version": "2.7.6"
  }
 },
 "nbformat": 4,
 "nbformat_minor": 1
}
