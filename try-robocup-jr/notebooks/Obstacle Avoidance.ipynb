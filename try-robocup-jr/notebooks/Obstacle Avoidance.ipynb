{
 "cells": [
  {
   "cell_type": "markdown",
   "metadata": {},
   "source": [
    "### Try-a-Bot: RoboCup Junior\n",
    "---\n",
    "###### <p style=\"text-align: left;\">[&laquo; Previous: Line Following](./Line%20Following.ipynb \"Line Following\")</p>\n",
    "\n",
    "# Obstacle Avoidance\n",
    "\n",
    "For completing the line following task, the rover must detect and avoid the obstacle placed in its trajectory.\n",
    "\n",
    "As in previous notebooks, you need to define a `Brick` object:"
   ]
  },
  {
   "cell_type": "code",
   "execution_count": 1,
   "metadata": {},
   "outputs": [],
   "source": [
    "from brick.robot import Brick\n",
    "robot = Brick()"
   ]
  },
  {
   "cell_type": "markdown",
   "metadata": {},
   "source": [
    "### Exercise\n",
    "\n",
    "The e-puck robot is equipped with 8 IR proximity sensors. Four of them are located in the forward direction of the robot (see details at [the e-puck homepage](http://www.e-puck.org/index.php?option=com_content&view=article&id=22&Itemid=13)).\n",
    "\n",
    "For avoiding an obstacle in front of the robot, you may try a simple algorithm like this:\n",
    "```python\n",
    "while True\n",
    "  if proximity sensor 0, 1, 6 or 7 read more than a threshold\n",
    "    turn left\n",
    "  else\n",
    "    move forward \n",
    "```"
   ]
  },
  {
   "cell_type": "code",
   "execution_count": 1,
   "metadata": {},
   "outputs": [],
   "source": [
    "# your code here"
   ]
  },
  {
   "cell_type": "markdown",
   "metadata": {},
   "source": [
    "#### [Solution](./Solutions.ipynb#simple_obstacle_avoidance)"
   ]
  },
  {
   "cell_type": "markdown",
   "metadata": {},
   "source": [
    "### Wall Following\n",
    "\n",
    "The aim is to avoid the obstacle while keeping a short distance to it. In this way, the robot can use the obstacle as a guide, until the line is detected again.\n",
    "\n",
    "For wall following using the right-side proximity sensors, you may try an algorithm like this:"
   ]
  },
  {
   "cell_type": "code",
   "execution_count": null,
   "metadata": {},
   "outputs": [],
   "source": [
    "while True:\n",
    "    if near to wall\n",
    "        go Right\n",
    "    elif far from wall\n",
    "        go Left\n",
    "    else:\n",
    "        go Straight"
   ]
  },
  {
   "cell_type": "markdown",
   "metadata": {},
   "source": [
    "#### [Solution](./Solutions.ipynb#wall_following)"
   ]
  },
  {
   "cell_type": "markdown",
   "metadata": {},
   "source": [
    "---\n",
    "###### <p style=\"text-align: right;\">[Next: Line Following with Obstacle Avoidance &raquo;](./Line%20Following%20with%20Obstacle%20Avoidance.ipynb \"Line Following with Obstacle Avoidance\")</p>\n"
   ]
  },
  {
   "cell_type": "markdown",
   "metadata": {},
   "source": [
    "---\n",
    "\n",
    "### Try-a-Bot: an open source guide for robot programming\n",
    "\n",
    "Developed by:\n",
    "[![Robotic Intelligence Lab @ UJI](img/logo/robinlab.png \"Robotic Intelligence Lab @ UJI\")](http://robinlab.uji.es)\n",
    "\n",
    "Sponsored by:\n",
    "<table>\n",
    "<tr>\n",
    "<td style=\"border:1px solid #ffffff ;\">[![IEEE Robotics and Automation Society](img/logo/ras.png \"IEEE Robotics and Automation Society\")](http://www.ieee-ras.org)</td>\n",
    "<td style=\"border:1px solid #ffffff ;\">[![Cyberbotics](img/logo/cyberbotics.png \"Cyberbotics\")](http://www.cyberbotics.com)</td>\n",
    "<td style=\"border:1px solid #ffffff ;\">[![The Construct](img/logo/theconstruct.png \"The Construct\")](http://www.theconstructsim.com)</td>\n",
    "</tr>\n",
    "</table>\n",
    "\n",
    "Follow us:\n",
    "<table>\n",
    "<tr>\n",
    "<td style=\"border:1px solid #ffffff ;\">[![Facebook](img/logo/facebook.png \"Facebook\")](https://www.facebook.com/RobotProgrammingNetwork)</td>\n",
    "<td style=\"border:1px solid #ffffff ;\">[![YouTube](img/logo/youtube.png \"YouTube\")](https://www.youtube.com/user/robotprogrammingnet)</td>\n",
    "</tr>\n",
    "</table>"
   ]
  }
 ],
 "metadata": {
  "kernelspec": {
   "display_name": "Python 2",
   "language": "python",
   "name": "python2"
  },
  "language_info": {
   "codemirror_mode": {
    "name": "ipython",
    "version": 2
   },
   "file_extension": ".py",
   "mimetype": "text/x-python",
   "name": "python",
   "nbconvert_exporter": "python",
   "pygments_lexer": "ipython2",
   "version": "2.7.6"
  }
 },
 "nbformat": 4,
 "nbformat_minor": 1
}
