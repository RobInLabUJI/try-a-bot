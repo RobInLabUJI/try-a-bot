{
 "cells": [
  {
   "cell_type": "markdown",
   "metadata": {},
   "source": [
    "# Try RoboCup Junior\n",
    "\n",
    "Play and learn in a simulated Robocup Junior environment with a LEGO Mindstorms robot.\n",
    "\n",
    "![Robocup world](img/robocup_world.png \"robocup world\")\n",
    "\n",
    "This environment is based on the [RoboCupJunior Rescue Line - Rules 2016](http://rcj.robocup.org/rcj2016/rescue_line_2016.pdf)\n",
    "\n",
    "## The Mission\n",
    "The robot should follow the line while overcoming different problems:\n",
    "* tiles with intersection(s)\n",
    "* obstacles\n",
    "* gapa in the lines\n",
    "* tiles with speed bump(s)\n",
    "\n",
    "At the end of the line there is a rectangular room with walls, where the robot should transport as many balls as possible to an evacuation point in one of the corners of the room.\n",
    "\n",
    "## Notebooks\n",
    "* [First Steps](First%20Steps.ipynb)\n",
    "* [Line Following](Line%20Following.ipynb)\n",
    "* [Obstacle Avoidance](Obstacle%20Avoidance.ipynb)"
   ]
  },
  {
   "cell_type": "markdown",
   "metadata": {},
   "source": [
    "---\n",
    "\n",
    "### Try-a-Bot: an open source guide for robot programming\n",
    "\n",
    "Developed by:\n",
    "[![Robotic Intelligence Lab @ UJI](img/logo/robinlab.png \"Robotic Intelligence Lab @ UJI\")](http://robinlab.uji.es)\n",
    "\n",
    "Sponsored by:\n",
    "<table>\n",
    "<tr>\n",
    "<td style=\"border:1px solid #ffffff ;\">[![IEEE Robotics and Automation Society](img/logo/ras.png \"IEEE Robotics and Automation Society\")](http://www.ieee-ras.org)</td>\n",
    "<td style=\"border:1px solid #ffffff ;\">[![Cyberbotics](img/logo/cyberbotics.png \"Cyberbotics\")](http://www.cyberbotics.com)</td>\n",
    "<td style=\"border:1px solid #ffffff ;\">[![The Construct](img/logo/theconstruct.png \"The Construct\")](http://www.theconstructsim.com)</td>\n",
    "</tr>\n",
    "</table>\n",
    "\n",
    "Follow us:\n",
    "<table>\n",
    "<tr>\n",
    "<td style=\"border:1px solid #ffffff ;\">[![Facebook](img/logo/facebook.png \"Facebook\")](https://www.facebook.com/RobotProgrammingNetwork)</td>\n",
    "<td style=\"border:1px solid #ffffff ;\">[![YouTube](img/logo/youtube.png \"YouTube\")](https://www.youtube.com/user/robotprogrammingnet)</td>\n",
    "</tr>\n",
    "</table>\n"
   ]
  }
 ],
 "metadata": {
  "kernelspec": {
   "display_name": "Python 2",
   "language": "python",
   "name": "python2"
  },
  "language_info": {
   "codemirror_mode": {
    "name": "ipython",
    "version": 2
   },
   "file_extension": ".py",
   "mimetype": "text/x-python",
   "name": "python",
   "nbconvert_exporter": "python",
   "pygments_lexer": "ipython2",
   "version": "2.7.6"
  }
 },
 "nbformat": 4,
 "nbformat_minor": 1
}
