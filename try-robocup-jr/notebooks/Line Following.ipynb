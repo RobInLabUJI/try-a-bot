{
 "cells": [
  {
   "cell_type": "markdown",
   "metadata": {},
   "source": [
    "### Try-a-Bot: e-puck education robot\n",
    "---\n",
    "###### <p style=\"text-align: left;\">[&laquo; Previous: First Steps](./First%20Steps.ipynb \"First Steps\")</p>\n",
    "<img style=\"width: 300px; float: right; border: 10px solid white;\" src=\"img/brick_line.png\">\n",
    "# Line Following\n",
    "\n",
    "Line following is a typical problem on industrial robots, and it is one of the most useful applications because it allows the robot to move from one point to another to do tasks.\n",
    "\n",
    "The robot is going to use its ground infrared sensors to follow the black line on the white floor.\n",
    "\n",
    "If you need to restart the simulation, please run the cell below, otherwise skip it."
   ]
  },
  {
   "cell_type": "code",
   "execution_count": null,
   "metadata": {},
   "outputs": [],
   "source": [
    "!restart_sim"
   ]
  },
  {
   "cell_type": "markdown",
   "metadata": {},
   "source": [
    "As in the previous notebook, you need to define a `Brick` object:"
   ]
  },
  {
   "cell_type": "code",
   "execution_count": null,
   "metadata": {},
   "outputs": [],
   "source": [
    "from brick.robot import Brick\n",
    "robot = Brick()\n",
    "robot.effectorUp()"
   ]
  },
  {
   "cell_type": "markdown",
   "metadata": {},
   "source": [
    "We need to learn the sensor values for black and white.\n",
    "\n",
    "This can be done empirically:\n",
    "let's move the robot, store some sensor readings, and plot the data.\n",
    "\n",
    "Make sure that the robot moves across the line, otherwise you will get always white values!"
   ]
  },
  {
   "cell_type": "code",
   "execution_count": 5,
   "metadata": {},
   "outputs": [],
   "source": [
    "data = []\n",
    "for i in range(20):\n",
    "    robot.move(500,500)\n",
    "    data.append(list(robot.gsValues))\n",
    "robot.move(0,0)"
   ]
  },
  {
   "cell_type": "code",
   "execution_count": null,
   "metadata": {},
   "outputs": [],
   "source": [
    "%matplotlib inline\n",
    "import matplotlib.pyplot as plt\n",
    "\n",
    "plt.plot(data);\n",
    "plt.legend(['gs0','gs1']);"
   ]
  },
  {
   "cell_type": "markdown",
   "metadata": {},
   "source": [
    "### Exercise\n",
    "\n",
    "Fill the code below for making the robot follow the line. The recommended solution consists of computing the difference between the left [0] and right [2] ground sensor, and modify the speed of the wheels according to that difference."
   ]
  },
  {
   "cell_type": "code",
   "execution_count": null,
   "metadata": {},
   "outputs": [],
   "source": [
    "for i in range(20):\n",
    "    difference = ...\n",
    "    speedLeft = ...\n",
    "    speedRight = ...\n",
    "    robot.move(speedLeft,speedRight,0.1)\n",
    "robot.move(0,0)"
   ]
  },
  {
   "cell_type": "markdown",
   "metadata": {},
   "source": [
    "#### [Solution](./Solutions.ipynb#line_following)"
   ]
  },
  {
   "cell_type": "markdown",
   "metadata": {},
   "source": [
    "Your robot will walk for a few seconds, then stop. You may modify the code so that the robot stops when detecting the obstacle with the proximity sensors.\n",
    "\n",
    "The e-puck is equipped with 8 IR proximity sensors, placed around the robot. The frontal sensors are those numbered 0 and 7. \n",
    "\n",
    "### Exercise\n",
    "\n",
    "Make a plot of the values of the frontal proximity sensors while the robot approaches the obstacle. Use the previous code, adding the statements for storing the sensor values in a list, and plotting them."
   ]
  },
  {
   "cell_type": "code",
   "execution_count": null,
   "metadata": {},
   "outputs": [],
   "source": [
    "# your code here"
   ]
  },
  {
   "cell_type": "markdown",
   "metadata": {},
   "source": [
    "#### [Solution](./Solutions.ipynb#line_following_datalog)"
   ]
  },
  {
   "cell_type": "markdown",
   "metadata": {},
   "source": [
    "### Exercise\n",
    "\n",
    "Modify the line following code, for stopping the robot when approaching the obstacle, by replacing the `for` loop with a conditional loop."
   ]
  },
  {
   "cell_type": "code",
   "execution_count": null,
   "metadata": {},
   "outputs": [],
   "source": [
    "while (...):\n",
    "    difference = ...\n",
    "    speedLeft = ...\n",
    "    speedRight = ...\n",
    "    robot.move(speedLeft,speedRight,0.01)"
   ]
  },
  {
   "cell_type": "markdown",
   "metadata": {},
   "source": [
    "#### [Solution](./Solutions.ipynb#line_following_obstacle)"
   ]
  },
  {
   "cell_type": "markdown",
   "metadata": {},
   "source": [
    "---\n",
    "###### <p style=\"text-align: right;\">[Next: Obstacle Avoidance &raquo;](./Obstacle%20Avoidance.ipynb \"Obstacle Avoidance\")</p>"
   ]
  },
  {
   "cell_type": "markdown",
   "metadata": {},
   "source": [
    "---\n",
    "\n",
    "### Try-a-Bot: an open source guide for robot programming\n",
    "\n",
    "Developed by:\n",
    "[![Robotic Intelligence Lab @ UJI](img/logo/robinlab.png \"Robotic Intelligence Lab @ UJI\")](http://robinlab.uji.es)\n",
    "\n",
    "Sponsored by:\n",
    "<table>\n",
    "<tr>\n",
    "<td style=\"border:1px solid #ffffff ;\">[![IEEE Robotics and Automation Society](img/logo/ras.png \"IEEE Robotics and Automation Society\")](http://www.ieee-ras.org)</td>\n",
    "<td style=\"border:1px solid #ffffff ;\">[![Cyberbotics](img/logo/cyberbotics.png \"Cyberbotics\")](http://www.cyberbotics.com)</td>\n",
    "<td style=\"border:1px solid #ffffff ;\">[![The Construct](img/logo/theconstruct.png \"The Construct\")](http://www.theconstructsim.com)</td>\n",
    "</tr>\n",
    "</table>\n",
    "\n",
    "Follow us:\n",
    "<table>\n",
    "<tr>\n",
    "<td style=\"border:1px solid #ffffff ;\">[![Facebook](img/logo/facebook.png \"Facebook\")](https://www.facebook.com/RobotProgrammingNetwork)</td>\n",
    "<td style=\"border:1px solid #ffffff ;\">[![YouTube](img/logo/youtube.png \"YouTube\")](https://www.youtube.com/user/robotprogrammingnet)</td>\n",
    "</tr>\n",
    "</table>"
   ]
  }
 ],
 "metadata": {
  "kernelspec": {
   "display_name": "Python 2",
   "language": "python",
   "name": "python2"
  },
  "language_info": {
   "codemirror_mode": {
    "name": "ipython",
    "version": 2
   },
   "file_extension": ".py",
   "mimetype": "text/x-python",
   "name": "python",
   "nbconvert_exporter": "python",
   "pygments_lexer": "ipython2",
   "version": "2.7.6"
  }
 },
 "nbformat": 4,
 "nbformat_minor": 1
}
