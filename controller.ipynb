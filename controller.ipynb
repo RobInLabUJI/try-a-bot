{
 "cells": [
  {
   "cell_type": "code",
   "execution_count": 1,
   "metadata": {},
   "outputs": [],
   "source": [
    "import packages.pioneer3dx as p3dx"
   ]
  },
  {
   "cell_type": "code",
   "execution_count": 2,
   "metadata": {},
   "outputs": [],
   "source": [
    "p3dx.init()"
   ]
  },
  {
   "cell_type": "code",
   "execution_count": 6,
   "metadata": {},
   "outputs": [],
   "source": [
    "p3dx.move(0,0)"
   ]
  },
  {
   "cell_type": "code",
   "execution_count": 5,
   "metadata": {},
   "outputs": [],
   "source": [
    "p3dx.move(-1,0)"
   ]
  },
  {
   "cell_type": "code",
   "execution_count": null,
   "metadata": {},
   "outputs": [],
   "source": []
  },
  {
   "cell_type": "code",
   "execution_count": 3,
   "metadata": {},
   "outputs": [
    {
     "name": "stdout",
     "output_type": "stream",
     "text": [
      "Device #0 name = green led\n",
      "Device #1 name = left wheel\n",
      "Device #2 name = left wheel sensor\n",
      "Device #3 name = lower yellow led\n",
      "Device #4 name = red led 1\n",
      "Device #5 name = red led 2\n",
      "Device #6 name = red led 3\n",
      "Device #7 name = right wheel\n",
      "Device #8 name = right wheel sensor\n",
      "Device #9 name = so0\n",
      "Device #10 name = so1\n",
      "Device #11 name = so10\n",
      "Device #12 name = so11\n",
      "Device #13 name = so12\n",
      "Device #14 name = so13\n",
      "Device #15 name = so14\n",
      "Device #16 name = so15\n",
      "Device #17 name = so2\n",
      "Device #18 name = so3\n",
      "Device #19 name = so4\n",
      "Device #20 name = so5\n",
      "Device #21 name = so6\n",
      "Device #22 name = so7\n",
      "Device #23 name = so8\n",
      "Device #24 name = so9\n",
      "Device #25 name = yellow led\n",
      "Device #26 name = white led\n"
     ]
    }
   ],
   "source": [
    "for i in range(robot.getNumberOfDevices()):\n",
    "    device = robot.getDeviceByIndex(i)\n",
    "    name = device.getName()\n",
    "    print('Device #%d name = %s' % (i, name))"
   ]
  },
  {
   "cell_type": "code",
   "execution_count": 4,
   "metadata": {},
   "outputs": [],
   "source": [
    "leftMotor = robot.getMotor('left wheel')"
   ]
  },
  {
   "cell_type": "code",
   "execution_count": 5,
   "metadata": {},
   "outputs": [],
   "source": [
    "timestep = int(robot.getBasicTimeStep())"
   ]
  },
  {
   "cell_type": "code",
   "execution_count": 6,
   "metadata": {},
   "outputs": [
    {
     "data": {
      "text/plain": [
       "11944"
      ]
     },
     "execution_count": 6,
     "metadata": {},
     "output_type": "execute_result"
    }
   ],
   "source": [
    "leftMotor.setPosition(float('+inf'))\n",
    "leftMotor.setVelocity(0.0)\n",
    "robot.step(timestep)"
   ]
  },
  {
   "cell_type": "code",
   "execution_count": 9,
   "metadata": {},
   "outputs": [
    {
     "data": {
      "text/plain": [
       "2448"
      ]
     },
     "execution_count": 9,
     "metadata": {},
     "output_type": "execute_result"
    }
   ],
   "source": [
    "leftMotor.setVelocity(1.0)\n",
    "robot.step(timestep)"
   ]
  },
  {
   "cell_type": "code",
   "execution_count": 10,
   "metadata": {},
   "outputs": [
    {
     "data": {
      "text/plain": [
       "1072"
      ]
     },
     "execution_count": 10,
     "metadata": {},
     "output_type": "execute_result"
    }
   ],
   "source": [
    "leftMotor.setVelocity(0.0)\n",
    "robot.step(timestep)"
   ]
  },
  {
   "cell_type": "code",
   "execution_count": null,
   "metadata": {},
   "outputs": [],
   "source": []
  }
 ],
 "metadata": {
  "kernelspec": {
   "display_name": "Python 3",
   "language": "python",
   "name": "python3"
  },
  "language_info": {
   "codemirror_mode": {
    "name": "ipython",
    "version": 3
   },
   "file_extension": ".py",
   "mimetype": "text/x-python",
   "name": "python",
   "nbconvert_exporter": "python",
   "pygments_lexer": "ipython3",
   "version": "3.6.9"
  }
 },
 "nbformat": 4,
 "nbformat_minor": 4
}
