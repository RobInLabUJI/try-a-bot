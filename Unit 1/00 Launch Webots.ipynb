{
 "cells": [
  {
   "cell_type": "markdown",
   "metadata": {},
   "source": [
    "# Launch Webots\n",
    "\n",
    "This notebook consists of **cells** with Bash commands that can be executed with **_Shift+Enter_**. \n",
    "\n",
    "Try it in the following cell:"
   ]
  },
  {
   "cell_type": "code",
   "execution_count": null,
   "metadata": {},
   "outputs": [],
   "source": [
    "# this is a command cell\n",
    "# click on it, then press Shift+Enter\n",
    "webots --stream --batch ../worlds/pioneer3dx.wbt &"
   ]
  },
  {
   "cell_type": "markdown",
   "metadata": {},
   "source": [
    "A Webots window has opened in the host computer.\n",
    "\n",
    "Next, you should launch the robot server, by clicking on the next cell and running it:"
   ]
  },
  {
   "cell_type": "code",
   "execution_count": null,
   "metadata": {},
   "outputs": [],
   "source": [
    "# this is another command cell\n",
    "# click on it, then press Shift+Enter\n",
    "python3 ../RobotServer.py &"
   ]
  },
  {
   "cell_type": "markdown",
   "metadata": {},
   "source": [
    "Don't worry about the messages.\n",
    "\n",
    "Now, open the notebook [Hello World](Hello%20World.ipynb)."
   ]
  }
 ],
 "metadata": {
  "kernelspec": {
   "display_name": "Bash",
   "language": "bash",
   "name": "bash"
  },
  "language_info": {
   "codemirror_mode": "shell",
   "file_extension": ".sh",
   "mimetype": "text/x-sh",
   "name": "bash"
  }
 },
 "nbformat": 4,
 "nbformat_minor": 4
}
